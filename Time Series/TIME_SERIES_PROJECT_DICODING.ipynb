{
  "nbformat": 4,
  "nbformat_minor": 0,
  "metadata": {
    "colab": {
      "name": "TIME SERIES PROJECT DICODING",
      "provenance": [],
      "collapsed_sections": []
    },
    "kernelspec": {
      "name": "python3",
      "display_name": "Python 3"
    },
    "language_info": {
      "name": "python"
    }
  },
  "cells": [
    {
      "cell_type": "markdown",
      "metadata": {
        "id": "eDxMDwCf9kf0"
      },
      "source": [
        "**DATA DIRI**\n",
        "\n",
        "**NAMA : MUHAMMAD ISMAIL**\n",
        "\n",
        "**DOMISILI : SURABAYA, JAWA TIMUR**\n",
        "\n",
        "**TIME SERIES PROJECT**"
      ]
    },
    {
      "cell_type": "code",
      "metadata": {
        "colab": {
          "base_uri": "https://localhost:8080/",
          "height": 35
        },
        "id": "J-AF8DUQ9jlL",
        "outputId": "b427e7e5-96bd-4ba0-fb62-2d0b16d36451"
      },
      "source": [
        "import tensorflow as tf\n",
        "#mengecek version dari tensorflow\n",
        "tf.__version__"
      ],
      "execution_count": null,
      "outputs": [
        {
          "output_type": "execute_result",
          "data": {
            "application/vnd.google.colaboratory.intrinsic+json": {
              "type": "string"
            },
            "text/plain": [
              "'2.6.0'"
            ]
          },
          "metadata": {},
          "execution_count": 69
        }
      ]
    },
    {
      "cell_type": "markdown",
      "metadata": {
        "id": "I2qyuSZ9xS48"
      },
      "source": [
        "**EKSTRAKSI FILE**"
      ]
    },
    {
      "cell_type": "code",
      "metadata": {
        "id": "msXjIsUC9h6Q"
      },
      "source": [
        "import pandas as pd\n",
        "import numpy as np\n",
        "import matplotlib.pyplot as plt\n",
        "import seaborn as sns\n",
        "from sklearn.model_selection import train_test_split\n",
        "from keras.preprocessing.sequence import TimeseriesGenerator\n",
        "from sklearn.preprocessing import MinMaxScaler\n",
        "from sklearn import metrics\n",
        "from datetime import datetime, date"
      ],
      "execution_count": null,
      "outputs": []
    },
    {
      "cell_type": "code",
      "metadata": {
        "colab": {
          "base_uri": "https://localhost:8080/"
        },
        "id": "KNax54uUvaSR",
        "outputId": "e5db1ed6-f6f5-4c0b-bb1b-70ad530f5961"
      },
      "source": [
        "!pip install kaggle"
      ],
      "execution_count": null,
      "outputs": [
        {
          "output_type": "stream",
          "name": "stdout",
          "text": [
            "Requirement already satisfied: kaggle in /usr/local/lib/python3.7/dist-packages (1.5.12)\n",
            "Requirement already satisfied: certifi in /usr/local/lib/python3.7/dist-packages (from kaggle) (2021.5.30)\n",
            "Requirement already satisfied: python-dateutil in /usr/local/lib/python3.7/dist-packages (from kaggle) (2.8.2)\n",
            "Requirement already satisfied: requests in /usr/local/lib/python3.7/dist-packages (from kaggle) (2.23.0)\n",
            "Requirement already satisfied: tqdm in /usr/local/lib/python3.7/dist-packages (from kaggle) (4.62.0)\n",
            "Requirement already satisfied: python-slugify in /usr/local/lib/python3.7/dist-packages (from kaggle) (5.0.2)\n",
            "Requirement already satisfied: urllib3 in /usr/local/lib/python3.7/dist-packages (from kaggle) (1.24.3)\n",
            "Requirement already satisfied: six>=1.10 in /usr/local/lib/python3.7/dist-packages (from kaggle) (1.15.0)\n",
            "Requirement already satisfied: text-unidecode>=1.3 in /usr/local/lib/python3.7/dist-packages (from python-slugify->kaggle) (1.3)\n",
            "Requirement already satisfied: idna<3,>=2.5 in /usr/local/lib/python3.7/dist-packages (from requests->kaggle) (2.10)\n",
            "Requirement already satisfied: chardet<4,>=3.0.2 in /usr/local/lib/python3.7/dist-packages (from requests->kaggle) (3.0.4)\n"
          ]
        }
      ]
    },
    {
      "cell_type": "code",
      "metadata": {
        "colab": {
          "resources": {
            "http://localhost:8080/nbextensions/google.colab/files.js": {
              "data": "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",
              "ok": true,
              "headers": [
                [
                  "content-type",
                  "application/javascript"
                ]
              ],
              "status": 200,
              "status_text": ""
            }
          },
          "base_uri": "https://localhost:8080/",
          "height": 90
        },
        "id": "QseppoXyvc-3",
        "outputId": "ea973254-7f6e-4f7f-86d7-3b3396096625"
      },
      "source": [
        "#mengupload API key akun kaggle\n",
        "from google.colab import files\n",
        "files.upload()"
      ],
      "execution_count": null,
      "outputs": [
        {
          "output_type": "display_data",
          "data": {
            "text/html": [
              "\n",
              "     <input type=\"file\" id=\"files-0e702e56-a768-4b44-9842-35d370c193b0\" name=\"files[]\" multiple disabled\n",
              "        style=\"border:none\" />\n",
              "     <output id=\"result-0e702e56-a768-4b44-9842-35d370c193b0\">\n",
              "      Upload widget is only available when the cell has been executed in the\n",
              "      current browser session. Please rerun this cell to enable.\n",
              "      </output>\n",
              "      <script src=\"/nbextensions/google.colab/files.js\"></script> "
            ],
            "text/plain": [
              "<IPython.core.display.HTML object>"
            ]
          },
          "metadata": {}
        },
        {
          "output_type": "stream",
          "name": "stdout",
          "text": [
            "Saving kaggle.json to kaggle (2).json\n"
          ]
        },
        {
          "output_type": "execute_result",
          "data": {
            "text/plain": [
              "{'kaggle.json': b'{\"username\":\"mail2418\",\"key\":\"784e529f058f35edd5174910c6d63425\"}'}"
            ]
          },
          "metadata": {},
          "execution_count": 72
        }
      ]
    },
    {
      "cell_type": "code",
      "metadata": {
        "colab": {
          "base_uri": "https://localhost:8080/"
        },
        "id": "NMnLRwqkvg76",
        "outputId": "d079c02a-2df1-4846-d5aa-5c31375e74bc"
      },
      "source": [
        "# membuat directory dari kaggle.json\n",
        "!mkdir -p ~/.kaggle\n",
        "!cp kaggle.json ~/.kaggle/\n",
        "!chmod 600 ~/.kaggle/kaggle.json\n",
        "!ls ~/.kaggle"
      ],
      "execution_count": null,
      "outputs": [
        {
          "output_type": "stream",
          "name": "stdout",
          "text": [
            "kaggle.json\n"
          ]
        }
      ]
    },
    {
      "cell_type": "code",
      "metadata": {
        "colab": {
          "base_uri": "https://localhost:8080/"
        },
        "id": "HaEr8HDFvokO",
        "outputId": "06602497-763a-4be0-ac45-da6883325177"
      },
      "source": [
        "#download dataset\n",
        "!kaggle datasets download -d berkeleyearth/climate-change-earth-surface-temperature-data"
      ],
      "execution_count": null,
      "outputs": [
        {
          "output_type": "stream",
          "name": "stdout",
          "text": [
            "climate-change-earth-surface-temperature-data.zip: Skipping, found more recently modified local copy (use --force to force download)\n"
          ]
        }
      ]
    },
    {
      "cell_type": "code",
      "metadata": {
        "colab": {
          "base_uri": "https://localhost:8080/"
        },
        "id": "4wZZR1C6v48H",
        "outputId": "80300e24-758c-46f4-b219-ee9bcbb162c2"
      },
      "source": [
        "# unzip dan lihat list dataset\n",
        "!mkdir climate-change-earth-surface-temperature-data\n",
        "!unzip climate-change-earth-surface-temperature-data.zip -d TemperatureData"
      ],
      "execution_count": null,
      "outputs": [
        {
          "output_type": "stream",
          "name": "stdout",
          "text": [
            "mkdir: cannot create directory ‘climate-change-earth-surface-temperature-data’: File exists\n",
            "Archive:  climate-change-earth-surface-temperature-data.zip\n",
            "replace TemperatureData/GlobalLandTemperaturesByCity.csv? [y]es, [n]o, [A]ll, [N]one, [r]ename: y\n",
            "  inflating: TemperatureData/GlobalLandTemperaturesByCity.csv  \n",
            "replace TemperatureData/GlobalLandTemperaturesByCountry.csv? [y]es, [n]o, [A]ll, [N]one, [r]ename: y\n",
            "  inflating: TemperatureData/GlobalLandTemperaturesByCountry.csv  \n",
            "replace TemperatureData/GlobalLandTemperaturesByMajorCity.csv? [y]es, [n]o, [A]ll, [N]one, [r]ename: y\n",
            "  inflating: TemperatureData/GlobalLandTemperaturesByMajorCity.csv  \n",
            "replace TemperatureData/GlobalLandTemperaturesByState.csv? [y]es, [n]o, [A]ll, [N]one, [r]ename: y\n",
            "  inflating: TemperatureData/GlobalLandTemperaturesByState.csv  \n",
            "replace TemperatureData/GlobalTemperatures.csv? [y]es, [n]o, [A]ll, [N]one, [r]ename: y\n",
            "  inflating: TemperatureData/GlobalTemperatures.csv  \n"
          ]
        }
      ]
    },
    {
      "cell_type": "markdown",
      "metadata": {
        "id": "rBYuaX_VxbDY"
      },
      "source": [
        "**MEMBUAT DATAFRAME**\n"
      ]
    },
    {
      "cell_type": "code",
      "metadata": {
        "id": "hy3WPY0JwTXZ"
      },
      "source": [
        "#mengubah file csv yang didapatkan ke dataframe\n",
        "#penambahan sep='\\t' memudahkan mesin untuk membaca dataframe dan menghindari eror\n",
        "df = pd.read_csv('TemperatureData/GlobalLandTemperaturesByCountry.csv')"
      ],
      "execution_count": null,
      "outputs": []
    },
    {
      "cell_type": "code",
      "metadata": {
        "colab": {
          "base_uri": "https://localhost:8080/",
          "height": 357
        },
        "id": "m5iN7Vbsx0Yi",
        "outputId": "670b7613-9386-4e98-8e43-972d33225e8f"
      },
      "source": [
        "df.head(10) "
      ],
      "execution_count": null,
      "outputs": [
        {
          "output_type": "execute_result",
          "data": {
            "text/html": [
              "<div>\n",
              "<style scoped>\n",
              "    .dataframe tbody tr th:only-of-type {\n",
              "        vertical-align: middle;\n",
              "    }\n",
              "\n",
              "    .dataframe tbody tr th {\n",
              "        vertical-align: top;\n",
              "    }\n",
              "\n",
              "    .dataframe thead th {\n",
              "        text-align: right;\n",
              "    }\n",
              "</style>\n",
              "<table border=\"1\" class=\"dataframe\">\n",
              "  <thead>\n",
              "    <tr style=\"text-align: right;\">\n",
              "      <th></th>\n",
              "      <th>dt</th>\n",
              "      <th>AverageTemperature</th>\n",
              "      <th>AverageTemperatureUncertainty</th>\n",
              "      <th>Country</th>\n",
              "    </tr>\n",
              "  </thead>\n",
              "  <tbody>\n",
              "    <tr>\n",
              "      <th>0</th>\n",
              "      <td>1743-11-01</td>\n",
              "      <td>4.384</td>\n",
              "      <td>2.294</td>\n",
              "      <td>Åland</td>\n",
              "    </tr>\n",
              "    <tr>\n",
              "      <th>1</th>\n",
              "      <td>1743-12-01</td>\n",
              "      <td>NaN</td>\n",
              "      <td>NaN</td>\n",
              "      <td>Åland</td>\n",
              "    </tr>\n",
              "    <tr>\n",
              "      <th>2</th>\n",
              "      <td>1744-01-01</td>\n",
              "      <td>NaN</td>\n",
              "      <td>NaN</td>\n",
              "      <td>Åland</td>\n",
              "    </tr>\n",
              "    <tr>\n",
              "      <th>3</th>\n",
              "      <td>1744-02-01</td>\n",
              "      <td>NaN</td>\n",
              "      <td>NaN</td>\n",
              "      <td>Åland</td>\n",
              "    </tr>\n",
              "    <tr>\n",
              "      <th>4</th>\n",
              "      <td>1744-03-01</td>\n",
              "      <td>NaN</td>\n",
              "      <td>NaN</td>\n",
              "      <td>Åland</td>\n",
              "    </tr>\n",
              "    <tr>\n",
              "      <th>5</th>\n",
              "      <td>1744-04-01</td>\n",
              "      <td>1.530</td>\n",
              "      <td>4.680</td>\n",
              "      <td>Åland</td>\n",
              "    </tr>\n",
              "    <tr>\n",
              "      <th>6</th>\n",
              "      <td>1744-05-01</td>\n",
              "      <td>6.702</td>\n",
              "      <td>1.789</td>\n",
              "      <td>Åland</td>\n",
              "    </tr>\n",
              "    <tr>\n",
              "      <th>7</th>\n",
              "      <td>1744-06-01</td>\n",
              "      <td>11.609</td>\n",
              "      <td>1.577</td>\n",
              "      <td>Åland</td>\n",
              "    </tr>\n",
              "    <tr>\n",
              "      <th>8</th>\n",
              "      <td>1744-07-01</td>\n",
              "      <td>15.342</td>\n",
              "      <td>1.410</td>\n",
              "      <td>Åland</td>\n",
              "    </tr>\n",
              "    <tr>\n",
              "      <th>9</th>\n",
              "      <td>1744-08-01</td>\n",
              "      <td>NaN</td>\n",
              "      <td>NaN</td>\n",
              "      <td>Åland</td>\n",
              "    </tr>\n",
              "  </tbody>\n",
              "</table>\n",
              "</div>"
            ],
            "text/plain": [
              "           dt  AverageTemperature  AverageTemperatureUncertainty Country\n",
              "0  1743-11-01               4.384                          2.294   Åland\n",
              "1  1743-12-01                 NaN                            NaN   Åland\n",
              "2  1744-01-01                 NaN                            NaN   Åland\n",
              "3  1744-02-01                 NaN                            NaN   Åland\n",
              "4  1744-03-01                 NaN                            NaN   Åland\n",
              "5  1744-04-01               1.530                          4.680   Åland\n",
              "6  1744-05-01               6.702                          1.789   Åland\n",
              "7  1744-06-01              11.609                          1.577   Åland\n",
              "8  1744-07-01              15.342                          1.410   Åland\n",
              "9  1744-08-01                 NaN                            NaN   Åland"
            ]
          },
          "metadata": {},
          "execution_count": 96
        }
      ]
    },
    {
      "cell_type": "code",
      "metadata": {
        "colab": {
          "base_uri": "https://localhost:8080/",
          "height": 357
        },
        "id": "Zft91x7Wx06J",
        "outputId": "44f3fd4b-b6bd-409c-cfb5-189a7a2c934c"
      },
      "source": [
        "df.tail(10)"
      ],
      "execution_count": null,
      "outputs": [
        {
          "output_type": "execute_result",
          "data": {
            "text/html": [
              "<div>\n",
              "<style scoped>\n",
              "    .dataframe tbody tr th:only-of-type {\n",
              "        vertical-align: middle;\n",
              "    }\n",
              "\n",
              "    .dataframe tbody tr th {\n",
              "        vertical-align: top;\n",
              "    }\n",
              "\n",
              "    .dataframe thead th {\n",
              "        text-align: right;\n",
              "    }\n",
              "</style>\n",
              "<table border=\"1\" class=\"dataframe\">\n",
              "  <thead>\n",
              "    <tr style=\"text-align: right;\">\n",
              "      <th></th>\n",
              "      <th>dt</th>\n",
              "      <th>AverageTemperature</th>\n",
              "      <th>AverageTemperatureUncertainty</th>\n",
              "      <th>Country</th>\n",
              "    </tr>\n",
              "  </thead>\n",
              "  <tbody>\n",
              "    <tr>\n",
              "      <th>577452</th>\n",
              "      <td>2012-12-01</td>\n",
              "      <td>24.111</td>\n",
              "      <td>0.846</td>\n",
              "      <td>Zimbabwe</td>\n",
              "    </tr>\n",
              "    <tr>\n",
              "      <th>577453</th>\n",
              "      <td>2013-01-01</td>\n",
              "      <td>23.812</td>\n",
              "      <td>1.218</td>\n",
              "      <td>Zimbabwe</td>\n",
              "    </tr>\n",
              "    <tr>\n",
              "      <th>577454</th>\n",
              "      <td>2013-02-01</td>\n",
              "      <td>24.075</td>\n",
              "      <td>1.286</td>\n",
              "      <td>Zimbabwe</td>\n",
              "    </tr>\n",
              "    <tr>\n",
              "      <th>577455</th>\n",
              "      <td>2013-03-01</td>\n",
              "      <td>23.226</td>\n",
              "      <td>0.564</td>\n",
              "      <td>Zimbabwe</td>\n",
              "    </tr>\n",
              "    <tr>\n",
              "      <th>577456</th>\n",
              "      <td>2013-04-01</td>\n",
              "      <td>21.142</td>\n",
              "      <td>0.495</td>\n",
              "      <td>Zimbabwe</td>\n",
              "    </tr>\n",
              "    <tr>\n",
              "      <th>577457</th>\n",
              "      <td>2013-05-01</td>\n",
              "      <td>19.059</td>\n",
              "      <td>1.022</td>\n",
              "      <td>Zimbabwe</td>\n",
              "    </tr>\n",
              "    <tr>\n",
              "      <th>577458</th>\n",
              "      <td>2013-06-01</td>\n",
              "      <td>17.613</td>\n",
              "      <td>0.473</td>\n",
              "      <td>Zimbabwe</td>\n",
              "    </tr>\n",
              "    <tr>\n",
              "      <th>577459</th>\n",
              "      <td>2013-07-01</td>\n",
              "      <td>17.000</td>\n",
              "      <td>0.453</td>\n",
              "      <td>Zimbabwe</td>\n",
              "    </tr>\n",
              "    <tr>\n",
              "      <th>577460</th>\n",
              "      <td>2013-08-01</td>\n",
              "      <td>19.759</td>\n",
              "      <td>0.717</td>\n",
              "      <td>Zimbabwe</td>\n",
              "    </tr>\n",
              "    <tr>\n",
              "      <th>577461</th>\n",
              "      <td>2013-09-01</td>\n",
              "      <td>NaN</td>\n",
              "      <td>NaN</td>\n",
              "      <td>Zimbabwe</td>\n",
              "    </tr>\n",
              "  </tbody>\n",
              "</table>\n",
              "</div>"
            ],
            "text/plain": [
              "                dt  AverageTemperature  AverageTemperatureUncertainty   Country\n",
              "577452  2012-12-01              24.111                          0.846  Zimbabwe\n",
              "577453  2013-01-01              23.812                          1.218  Zimbabwe\n",
              "577454  2013-02-01              24.075                          1.286  Zimbabwe\n",
              "577455  2013-03-01              23.226                          0.564  Zimbabwe\n",
              "577456  2013-04-01              21.142                          0.495  Zimbabwe\n",
              "577457  2013-05-01              19.059                          1.022  Zimbabwe\n",
              "577458  2013-06-01              17.613                          0.473  Zimbabwe\n",
              "577459  2013-07-01              17.000                          0.453  Zimbabwe\n",
              "577460  2013-08-01              19.759                          0.717  Zimbabwe\n",
              "577461  2013-09-01                 NaN                            NaN  Zimbabwe"
            ]
          },
          "metadata": {},
          "execution_count": 97
        }
      ]
    },
    {
      "cell_type": "code",
      "metadata": {
        "colab": {
          "base_uri": "https://localhost:8080/"
        },
        "id": "blRc1YOEyGIH",
        "outputId": "58028ace-9023-4c01-8eb1-877a46498f1a"
      },
      "source": [
        "df.isnull().sum()"
      ],
      "execution_count": null,
      "outputs": [
        {
          "output_type": "execute_result",
          "data": {
            "text/plain": [
              "dt                                   0\n",
              "AverageTemperature               32651\n",
              "AverageTemperatureUncertainty    31912\n",
              "Country                              0\n",
              "dtype: int64"
            ]
          },
          "metadata": {},
          "execution_count": 98
        }
      ]
    },
    {
      "cell_type": "code",
      "metadata": {
        "colab": {
          "base_uri": "https://localhost:8080/"
        },
        "id": "1aA-wWloy1Y5",
        "outputId": "6537d98b-74b9-42c6-db8d-0cc350383a80"
      },
      "source": [
        "df.info()"
      ],
      "execution_count": null,
      "outputs": [
        {
          "output_type": "stream",
          "name": "stdout",
          "text": [
            "<class 'pandas.core.frame.DataFrame'>\n",
            "RangeIndex: 577462 entries, 0 to 577461\n",
            "Data columns (total 4 columns):\n",
            " #   Column                         Non-Null Count   Dtype  \n",
            "---  ------                         --------------   -----  \n",
            " 0   dt                             577462 non-null  object \n",
            " 1   AverageTemperature             544811 non-null  float64\n",
            " 2   AverageTemperatureUncertainty  545550 non-null  float64\n",
            " 3   Country                        577462 non-null  object \n",
            "dtypes: float64(2), object(2)\n",
            "memory usage: 17.6+ MB\n"
          ]
        }
      ]
    },
    {
      "cell_type": "code",
      "metadata": {
        "id": "AtH_HQGg0l6M"
      },
      "source": [
        "#menghilangkan nilai NaN\n",
        "mean_AverageTemperature = df.AverageTemperature[246308:248572].mean()\n",
        "mean_AverageTemperatureUncertainty = df.AverageTemperatureUncertainty[246308:248573].mean()\n",
        "df = df.fillna(value={'AverageTemperature':mean_AverageTemperature, \n",
        "                 'AverageTemperatureUncertainty':mean_AverageTemperatureUncertainty})"
      ],
      "execution_count": null,
      "outputs": []
    },
    {
      "cell_type": "code",
      "metadata": {
        "colab": {
          "base_uri": "https://localhost:8080/"
        },
        "id": "_HkKLwGO4fEB",
        "outputId": "37929b62-3c81-4159-f93c-ef035c8210d1"
      },
      "source": [
        "mean_AverageTemperatureUncertainty"
      ],
      "execution_count": null,
      "outputs": [
        {
          "output_type": "execute_result",
          "data": {
            "text/plain": [
              "0.44749866950505623"
            ]
          },
          "metadata": {},
          "execution_count": 101
        }
      ]
    },
    {
      "cell_type": "code",
      "metadata": {
        "colab": {
          "base_uri": "https://localhost:8080/"
        },
        "id": "CQc0EQo_4mD0",
        "outputId": "b173032e-5812-402b-ab77-3cc57f7feaaf"
      },
      "source": [
        "mean_AverageTemperature "
      ],
      "execution_count": null,
      "outputs": [
        {
          "output_type": "execute_result",
          "data": {
            "text/plain": [
              "25.684483767961684"
            ]
          },
          "metadata": {},
          "execution_count": 102
        }
      ]
    },
    {
      "cell_type": "markdown",
      "metadata": {
        "id": "aLoC-YzT2D02"
      },
      "source": [
        "**VISUALISASI DATA**"
      ]
    },
    {
      "cell_type": "code",
      "metadata": {
        "colab": {
          "base_uri": "https://localhost:8080/",
          "height": 417
        },
        "id": "b4LBMR-v2pbY",
        "outputId": "40b42be5-7fe4-4230-f199-8f92b3aa0a4c"
      },
      "source": [
        " data = df.loc[(df.Country == 'Indonesia')]\n",
        " data"
      ],
      "execution_count": null,
      "outputs": [
        {
          "output_type": "execute_result",
          "data": {
            "text/html": [
              "<div>\n",
              "<style scoped>\n",
              "    .dataframe tbody tr th:only-of-type {\n",
              "        vertical-align: middle;\n",
              "    }\n",
              "\n",
              "    .dataframe tbody tr th {\n",
              "        vertical-align: top;\n",
              "    }\n",
              "\n",
              "    .dataframe thead th {\n",
              "        text-align: right;\n",
              "    }\n",
              "</style>\n",
              "<table border=\"1\" class=\"dataframe\">\n",
              "  <thead>\n",
              "    <tr style=\"text-align: right;\">\n",
              "      <th></th>\n",
              "      <th>dt</th>\n",
              "      <th>AverageTemperature</th>\n",
              "      <th>AverageTemperatureUncertainty</th>\n",
              "      <th>Country</th>\n",
              "    </tr>\n",
              "  </thead>\n",
              "  <tbody>\n",
              "    <tr>\n",
              "      <th>246308</th>\n",
              "      <td>1825-01-01</td>\n",
              "      <td>25.915000</td>\n",
              "      <td>1.825000</td>\n",
              "      <td>Indonesia</td>\n",
              "    </tr>\n",
              "    <tr>\n",
              "      <th>246309</th>\n",
              "      <td>1825-02-01</td>\n",
              "      <td>25.385000</td>\n",
              "      <td>0.973000</td>\n",
              "      <td>Indonesia</td>\n",
              "    </tr>\n",
              "    <tr>\n",
              "      <th>246310</th>\n",
              "      <td>1825-03-01</td>\n",
              "      <td>25.687000</td>\n",
              "      <td>1.656000</td>\n",
              "      <td>Indonesia</td>\n",
              "    </tr>\n",
              "    <tr>\n",
              "      <th>246311</th>\n",
              "      <td>1825-04-01</td>\n",
              "      <td>26.302000</td>\n",
              "      <td>1.897000</td>\n",
              "      <td>Indonesia</td>\n",
              "    </tr>\n",
              "    <tr>\n",
              "      <th>246312</th>\n",
              "      <td>1825-05-01</td>\n",
              "      <td>25.705000</td>\n",
              "      <td>0.902000</td>\n",
              "      <td>Indonesia</td>\n",
              "    </tr>\n",
              "    <tr>\n",
              "      <th>...</th>\n",
              "      <td>...</td>\n",
              "      <td>...</td>\n",
              "      <td>...</td>\n",
              "      <td>...</td>\n",
              "    </tr>\n",
              "    <tr>\n",
              "      <th>248568</th>\n",
              "      <td>2013-05-01</td>\n",
              "      <td>26.818000</td>\n",
              "      <td>0.154000</td>\n",
              "      <td>Indonesia</td>\n",
              "    </tr>\n",
              "    <tr>\n",
              "      <th>248569</th>\n",
              "      <td>2013-06-01</td>\n",
              "      <td>26.881000</td>\n",
              "      <td>0.248000</td>\n",
              "      <td>Indonesia</td>\n",
              "    </tr>\n",
              "    <tr>\n",
              "      <th>248570</th>\n",
              "      <td>2013-07-01</td>\n",
              "      <td>25.902000</td>\n",
              "      <td>0.164000</td>\n",
              "      <td>Indonesia</td>\n",
              "    </tr>\n",
              "    <tr>\n",
              "      <th>248571</th>\n",
              "      <td>2013-08-01</td>\n",
              "      <td>25.961000</td>\n",
              "      <td>0.319000</td>\n",
              "      <td>Indonesia</td>\n",
              "    </tr>\n",
              "    <tr>\n",
              "      <th>248572</th>\n",
              "      <td>2013-09-01</td>\n",
              "      <td>25.684484</td>\n",
              "      <td>0.447499</td>\n",
              "      <td>Indonesia</td>\n",
              "    </tr>\n",
              "  </tbody>\n",
              "</table>\n",
              "<p>2265 rows × 4 columns</p>\n",
              "</div>"
            ],
            "text/plain": [
              "                dt  ...    Country\n",
              "246308  1825-01-01  ...  Indonesia\n",
              "246309  1825-02-01  ...  Indonesia\n",
              "246310  1825-03-01  ...  Indonesia\n",
              "246311  1825-04-01  ...  Indonesia\n",
              "246312  1825-05-01  ...  Indonesia\n",
              "...            ...  ...        ...\n",
              "248568  2013-05-01  ...  Indonesia\n",
              "248569  2013-06-01  ...  Indonesia\n",
              "248570  2013-07-01  ...  Indonesia\n",
              "248571  2013-08-01  ...  Indonesia\n",
              "248572  2013-09-01  ...  Indonesia\n",
              "\n",
              "[2265 rows x 4 columns]"
            ]
          },
          "metadata": {},
          "execution_count": 103
        }
      ]
    },
    {
      "cell_type": "code",
      "metadata": {
        "colab": {
          "base_uri": "https://localhost:8080/",
          "height": 417
        },
        "id": "fqN3T7qT1iAn",
        "outputId": "133928e4-ac8a-4e9b-96d0-018eef93b671"
      },
      "source": [
        "Visual_AverageTemperature = data.drop(columns=['AverageTemperatureUncertainty', 'Country'])\n",
        "Visual_AverageTemperature"
      ],
      "execution_count": null,
      "outputs": [
        {
          "output_type": "execute_result",
          "data": {
            "text/html": [
              "<div>\n",
              "<style scoped>\n",
              "    .dataframe tbody tr th:only-of-type {\n",
              "        vertical-align: middle;\n",
              "    }\n",
              "\n",
              "    .dataframe tbody tr th {\n",
              "        vertical-align: top;\n",
              "    }\n",
              "\n",
              "    .dataframe thead th {\n",
              "        text-align: right;\n",
              "    }\n",
              "</style>\n",
              "<table border=\"1\" class=\"dataframe\">\n",
              "  <thead>\n",
              "    <tr style=\"text-align: right;\">\n",
              "      <th></th>\n",
              "      <th>dt</th>\n",
              "      <th>AverageTemperature</th>\n",
              "    </tr>\n",
              "  </thead>\n",
              "  <tbody>\n",
              "    <tr>\n",
              "      <th>246308</th>\n",
              "      <td>1825-01-01</td>\n",
              "      <td>25.915000</td>\n",
              "    </tr>\n",
              "    <tr>\n",
              "      <th>246309</th>\n",
              "      <td>1825-02-01</td>\n",
              "      <td>25.385000</td>\n",
              "    </tr>\n",
              "    <tr>\n",
              "      <th>246310</th>\n",
              "      <td>1825-03-01</td>\n",
              "      <td>25.687000</td>\n",
              "    </tr>\n",
              "    <tr>\n",
              "      <th>246311</th>\n",
              "      <td>1825-04-01</td>\n",
              "      <td>26.302000</td>\n",
              "    </tr>\n",
              "    <tr>\n",
              "      <th>246312</th>\n",
              "      <td>1825-05-01</td>\n",
              "      <td>25.705000</td>\n",
              "    </tr>\n",
              "    <tr>\n",
              "      <th>...</th>\n",
              "      <td>...</td>\n",
              "      <td>...</td>\n",
              "    </tr>\n",
              "    <tr>\n",
              "      <th>248568</th>\n",
              "      <td>2013-05-01</td>\n",
              "      <td>26.818000</td>\n",
              "    </tr>\n",
              "    <tr>\n",
              "      <th>248569</th>\n",
              "      <td>2013-06-01</td>\n",
              "      <td>26.881000</td>\n",
              "    </tr>\n",
              "    <tr>\n",
              "      <th>248570</th>\n",
              "      <td>2013-07-01</td>\n",
              "      <td>25.902000</td>\n",
              "    </tr>\n",
              "    <tr>\n",
              "      <th>248571</th>\n",
              "      <td>2013-08-01</td>\n",
              "      <td>25.961000</td>\n",
              "    </tr>\n",
              "    <tr>\n",
              "      <th>248572</th>\n",
              "      <td>2013-09-01</td>\n",
              "      <td>25.684484</td>\n",
              "    </tr>\n",
              "  </tbody>\n",
              "</table>\n",
              "<p>2265 rows × 2 columns</p>\n",
              "</div>"
            ],
            "text/plain": [
              "                dt  AverageTemperature\n",
              "246308  1825-01-01           25.915000\n",
              "246309  1825-02-01           25.385000\n",
              "246310  1825-03-01           25.687000\n",
              "246311  1825-04-01           26.302000\n",
              "246312  1825-05-01           25.705000\n",
              "...            ...                 ...\n",
              "248568  2013-05-01           26.818000\n",
              "248569  2013-06-01           26.881000\n",
              "248570  2013-07-01           25.902000\n",
              "248571  2013-08-01           25.961000\n",
              "248572  2013-09-01           25.684484\n",
              "\n",
              "[2265 rows x 2 columns]"
            ]
          },
          "metadata": {},
          "execution_count": 104
        }
      ]
    },
    {
      "cell_type": "code",
      "metadata": {
        "colab": {
          "base_uri": "https://localhost:8080/",
          "height": 424
        },
        "id": "96Uglkzt7eBA",
        "outputId": "c2b42bd3-1fa0-4532-fd3d-1e207627e0f4"
      },
      "source": [
        "Visual_AverageTemperature.iloc[692:1693].plot(title='Rata-rata Temperatur Harian Indonesia',figsize=(14,6))\n",
        "plt.ylabel('Temperature',fontsize=12)\n",
        "plt.xlabel('Date',fontsize=12)\n",
        "plt.legend()"
      ],
      "execution_count": null,
      "outputs": [
        {
          "output_type": "execute_result",
          "data": {
            "text/plain": [
              "<matplotlib.legend.Legend at 0x7fae4929a7d0>"
            ]
          },
          "metadata": {},
          "execution_count": 105
        },
        {
          "output_type": "display_data",
          "data": {
            "image/png": "[encoded data removed]",
            "text/plain": [
              "<Figure size 1008x432 with 1 Axes>"
            ]
          },
          "metadata": {
            "needs_background": "light"
          }
        }
      ]
    },
    {
      "cell_type": "markdown",
      "metadata": {
        "id": "MYyPbjeJ-m_s"
      },
      "source": [
        "**MEMBUAT MODEL DAN MENGSCALE DATA**"
      ]
    },
    {
      "cell_type": "code",
      "metadata": {
        "colab": {
          "base_uri": "https://localhost:8080/",
          "height": 447
        },
        "id": "DFMnktmcTrd2",
        "outputId": "90463e2c-8a1e-4be0-984e-918c3a1ecc77"
      },
      "source": [
        "data = Visual_AverageTemperature.loc[(Visual_AverageTemperature.dt >= '1825-01-01') & (Visual_AverageTemperature.dt <= '2013-09-01'), ['dt', 'AverageTemperature']]\n",
        "data.set_index('dt', inplace= True)\n",
        "data"
      ],
      "execution_count": 137,
      "outputs": [
        {
          "output_type": "execute_result",
          "data": {
            "text/html": [
              "<div>\n",
              "<style scoped>\n",
              "    .dataframe tbody tr th:only-of-type {\n",
              "        vertical-align: middle;\n",
              "    }\n",
              "\n",
              "    .dataframe tbody tr th {\n",
              "        vertical-align: top;\n",
              "    }\n",
              "\n",
              "    .dataframe thead th {\n",
              "        text-align: right;\n",
              "    }\n",
              "</style>\n",
              "<table border=\"1\" class=\"dataframe\">\n",
              "  <thead>\n",
              "    <tr style=\"text-align: right;\">\n",
              "      <th></th>\n",
              "      <th>AverageTemperature</th>\n",
              "    </tr>\n",
              "    <tr>\n",
              "      <th>dt</th>\n",
              "      <th></th>\n",
              "    </tr>\n",
              "  </thead>\n",
              "  <tbody>\n",
              "    <tr>\n",
              "      <th>1825-01-01</th>\n",
              "      <td>25.915000</td>\n",
              "    </tr>\n",
              "    <tr>\n",
              "      <th>1825-02-01</th>\n",
              "      <td>25.385000</td>\n",
              "    </tr>\n",
              "    <tr>\n",
              "      <th>1825-03-01</th>\n",
              "      <td>25.687000</td>\n",
              "    </tr>\n",
              "    <tr>\n",
              "      <th>1825-04-01</th>\n",
              "      <td>26.302000</td>\n",
              "    </tr>\n",
              "    <tr>\n",
              "      <th>1825-05-01</th>\n",
              "      <td>25.705000</td>\n",
              "    </tr>\n",
              "    <tr>\n",
              "      <th>...</th>\n",
              "      <td>...</td>\n",
              "    </tr>\n",
              "    <tr>\n",
              "      <th>2013-05-01</th>\n",
              "      <td>26.818000</td>\n",
              "    </tr>\n",
              "    <tr>\n",
              "      <th>2013-06-01</th>\n",
              "      <td>26.881000</td>\n",
              "    </tr>\n",
              "    <tr>\n",
              "      <th>2013-07-01</th>\n",
              "      <td>25.902000</td>\n",
              "    </tr>\n",
              "    <tr>\n",
              "      <th>2013-08-01</th>\n",
              "      <td>25.961000</td>\n",
              "    </tr>\n",
              "    <tr>\n",
              "      <th>2013-09-01</th>\n",
              "      <td>25.684484</td>\n",
              "    </tr>\n",
              "  </tbody>\n",
              "</table>\n",
              "<p>2265 rows × 1 columns</p>\n",
              "</div>"
            ],
            "text/plain": [
              "            AverageTemperature\n",
              "dt                            \n",
              "1825-01-01           25.915000\n",
              "1825-02-01           25.385000\n",
              "1825-03-01           25.687000\n",
              "1825-04-01           26.302000\n",
              "1825-05-01           25.705000\n",
              "...                        ...\n",
              "2013-05-01           26.818000\n",
              "2013-06-01           26.881000\n",
              "2013-07-01           25.902000\n",
              "2013-08-01           25.961000\n",
              "2013-09-01           25.684484\n",
              "\n",
              "[2265 rows x 1 columns]"
            ]
          },
          "metadata": {},
          "execution_count": 137
        }
      ]
    },
    {
      "cell_type": "code",
      "metadata": {
        "id": "1eKxusZAQ2ms"
      },
      "source": [
        "train_sample, test_sample = train_test_split(data.values, test_size=0.2, shuffle=False)"
      ],
      "execution_count": null,
      "outputs": []
    },
    {
      "cell_type": "code",
      "metadata": {
        "colab": {
          "base_uri": "https://localhost:8080/"
        },
        "id": "V5crP_ALS31k",
        "outputId": "0ad5f64b-2a6f-46c6-dcbd-cd6b84244613"
      },
      "source": [
        "train_sample"
      ],
      "execution_count": null,
      "outputs": [
        {
          "output_type": "execute_result",
          "data": {
            "text/plain": [
              "array([[25.915],\n",
              "       [25.385],\n",
              "       [25.687],\n",
              "       ...,\n",
              "       [25.915],\n",
              "       [25.873],\n",
              "       [25.594]])"
            ]
          },
          "metadata": {},
          "execution_count": 113
        }
      ]
    },
    {
      "cell_type": "code",
      "metadata": {
        "colab": {
          "base_uri": "https://localhost:8080/"
        },
        "id": "ZdfWvJxuS8dW",
        "outputId": "fb32447d-cda0-493a-dfa4-b5e364ffbd36"
      },
      "source": [
        "test_sample"
      ],
      "execution_count": null,
      "outputs": [
        {
          "output_type": "execute_result",
          "data": {
            "text/plain": [
              "array([[25.154     ],\n",
              "       [25.539     ],\n",
              "       [25.747     ],\n",
              "       [25.964     ],\n",
              "       [26.286     ],\n",
              "       [25.663     ],\n",
              "       [25.44      ],\n",
              "       [25.567     ],\n",
              "       [26.136     ],\n",
              "       [25.864     ],\n",
              "       [26.117     ],\n",
              "       [25.893     ],\n",
              "       [25.742     ],\n",
              "       [25.443     ],\n",
              "       [25.879     ],\n",
              "       [26.119     ],\n",
              "       [26.19      ],\n",
              "       [25.714     ],\n",
              "       [25.61      ],\n",
              "       [25.41      ],\n",
              "       [26.139     ],\n",
              "       [26.142     ],\n",
              "       [26.426     ],\n",
              "       [26.016     ],\n",
              "       [25.802     ],\n",
              "       [25.971     ],\n",
              "       [26.201     ],\n",
              "       [26.102     ],\n",
              "       [26.534     ],\n",
              "       [25.992     ],\n",
              "       [25.693     ],\n",
              "       [26.092     ],\n",
              "       [25.752     ],\n",
              "       [25.841     ],\n",
              "       [26.095     ],\n",
              "       [25.746     ],\n",
              "       [25.898     ],\n",
              "       [26.081     ],\n",
              "       [26.136     ],\n",
              "       [26.263     ],\n",
              "       [26.592     ],\n",
              "       [26.082     ],\n",
              "       [25.536     ],\n",
              "       [26.046     ],\n",
              "       [26.02      ],\n",
              "       [26.172     ],\n",
              "       [26.136     ],\n",
              "       [25.758     ],\n",
              "       [25.748     ],\n",
              "       [25.904     ],\n",
              "       [26.037     ],\n",
              "       [26.241     ],\n",
              "       [26.579     ],\n",
              "       [26.102     ],\n",
              "       [25.973     ],\n",
              "       [25.691     ],\n",
              "       [26.14      ],\n",
              "       [26.096     ],\n",
              "       [26.068     ],\n",
              "       [25.784     ],\n",
              "       [25.55      ],\n",
              "       [25.832     ],\n",
              "       [26.204     ],\n",
              "       [26.053     ],\n",
              "       [26.457     ],\n",
              "       [26.219     ],\n",
              "       [25.877     ],\n",
              "       [26.325     ],\n",
              "       [25.892     ],\n",
              "       [26.081     ],\n",
              "       [26.141     ],\n",
              "       [25.74      ],\n",
              "       [25.637     ],\n",
              "       [25.85      ],\n",
              "       [25.933     ],\n",
              "       [26.131     ],\n",
              "       [26.302     ],\n",
              "       [25.933     ],\n",
              "       [25.588     ],\n",
              "       [25.503     ],\n",
              "       [25.86      ],\n",
              "       [25.916     ],\n",
              "       [26.338     ],\n",
              "       [26.31      ],\n",
              "       [26.146     ],\n",
              "       [26.484     ],\n",
              "       [26.959     ],\n",
              "       [26.742     ],\n",
              "       [26.463     ],\n",
              "       [26.213     ],\n",
              "       [25.751     ],\n",
              "       [25.966     ],\n",
              "       [26.086     ],\n",
              "       [26.13      ],\n",
              "       [26.175     ],\n",
              "       [25.745     ],\n",
              "       [25.597     ],\n",
              "       [25.509     ],\n",
              "       [25.911     ],\n",
              "       [25.91      ],\n",
              "       [25.968     ],\n",
              "       [25.766     ],\n",
              "       [25.339     ],\n",
              "       [25.761     ],\n",
              "       [25.583     ],\n",
              "       [25.973     ],\n",
              "       [26.177     ],\n",
              "       [25.785     ],\n",
              "       [25.863     ],\n",
              "       [26.206     ],\n",
              "       [26.211     ],\n",
              "       [26.146     ],\n",
              "       [26.436     ],\n",
              "       [26.001     ],\n",
              "       [25.221     ],\n",
              "       [25.802     ],\n",
              "       [25.795     ],\n",
              "       [26.066     ],\n",
              "       [26.127     ],\n",
              "       [26.055     ],\n",
              "       [25.736     ],\n",
              "       [25.778     ],\n",
              "       [25.823     ],\n",
              "       [26.087     ],\n",
              "       [26.675     ],\n",
              "       [26.253     ],\n",
              "       [25.913     ],\n",
              "       [26.102     ],\n",
              "       [26.117     ],\n",
              "       [26.04      ],\n",
              "       [26.07      ],\n",
              "       [26.092     ],\n",
              "       [25.681     ],\n",
              "       [25.874     ],\n",
              "       [26.433     ],\n",
              "       [26.408     ],\n",
              "       [26.624     ],\n",
              "       [26.761     ],\n",
              "       [26.262     ],\n",
              "       [26.199     ],\n",
              "       [26.561     ],\n",
              "       [26.712     ],\n",
              "       [26.664     ],\n",
              "       [26.241     ],\n",
              "       [26.31      ],\n",
              "       [26.307     ],\n",
              "       [26.623     ],\n",
              "       [26.67      ],\n",
              "       [26.785     ],\n",
              "       [26.188     ],\n",
              "       [25.945     ],\n",
              "       [25.922     ],\n",
              "       [26.269     ],\n",
              "       [26.258     ],\n",
              "       [26.195     ],\n",
              "       [25.536     ],\n",
              "       [26.07      ],\n",
              "       [25.78      ],\n",
              "       [25.94      ],\n",
              "       [26.088     ],\n",
              "       [26.426     ],\n",
              "       [26.033     ],\n",
              "       [25.907     ],\n",
              "       [25.982     ],\n",
              "       [26.04      ],\n",
              "       [26.167     ],\n",
              "       [26.241     ],\n",
              "       [25.974     ],\n",
              "       [25.717     ],\n",
              "       [26.373     ],\n",
              "       [26.386     ],\n",
              "       [26.715     ],\n",
              "       [26.7       ],\n",
              "       [26.359     ],\n",
              "       [25.775     ],\n",
              "       [26.103     ],\n",
              "       [26.142     ],\n",
              "       [26.154     ],\n",
              "       [26.507     ],\n",
              "       [25.923     ],\n",
              "       [25.978     ],\n",
              "       [26.046     ],\n",
              "       [26.277     ],\n",
              "       [26.16      ],\n",
              "       [26.386     ],\n",
              "       [26.313     ],\n",
              "       [25.774     ],\n",
              "       [25.87      ],\n",
              "       [26.082     ],\n",
              "       [26.061     ],\n",
              "       [26.077     ],\n",
              "       [25.878     ],\n",
              "       [26.06      ],\n",
              "       [26.228     ],\n",
              "       [26.554     ],\n",
              "       [26.576     ],\n",
              "       [26.628     ],\n",
              "       [26.246     ],\n",
              "       [25.693     ],\n",
              "       [25.959     ],\n",
              "       [26.202     ],\n",
              "       [26.069     ],\n",
              "       [26.084     ],\n",
              "       [25.743     ],\n",
              "       [25.866     ],\n",
              "       [26.01      ],\n",
              "       [26.023     ],\n",
              "       [26.172     ],\n",
              "       [26.455     ],\n",
              "       [26.275     ],\n",
              "       [25.833     ],\n",
              "       [26.064     ],\n",
              "       [26.101     ],\n",
              "       [26.203     ],\n",
              "       [26.488     ],\n",
              "       [26.176     ],\n",
              "       [25.909     ],\n",
              "       [26.19      ],\n",
              "       [25.932     ],\n",
              "       [26.12      ],\n",
              "       [26.326     ],\n",
              "       [25.966     ],\n",
              "       [25.665     ],\n",
              "       [25.684     ],\n",
              "       [26.114     ],\n",
              "       [26.28      ],\n",
              "       [26.676     ],\n",
              "       [26.149     ],\n",
              "       [26.024     ],\n",
              "       [25.984     ],\n",
              "       [26.217     ],\n",
              "       [26.382     ],\n",
              "       [26.787     ],\n",
              "       [26.487     ],\n",
              "       [25.884     ],\n",
              "       [25.896     ],\n",
              "       [26.308     ],\n",
              "       [26.47      ],\n",
              "       [26.339     ],\n",
              "       [25.978     ],\n",
              "       [25.726     ],\n",
              "       [25.818     ],\n",
              "       [26.663     ],\n",
              "       [26.422     ],\n",
              "       [26.806     ],\n",
              "       [26.377     ],\n",
              "       [26.065     ],\n",
              "       [26.017     ],\n",
              "       [26.37      ],\n",
              "       [26.091     ],\n",
              "       [26.291     ],\n",
              "       [25.934     ],\n",
              "       [25.829     ],\n",
              "       [25.946     ],\n",
              "       [26.583     ],\n",
              "       [26.314     ],\n",
              "       [26.767     ],\n",
              "       [26.609     ],\n",
              "       [25.999     ],\n",
              "       [26.344     ],\n",
              "       [26.222     ],\n",
              "       [26.494     ],\n",
              "       [26.691     ],\n",
              "       [26.665     ],\n",
              "       [26.925     ],\n",
              "       [27.114     ],\n",
              "       [27.3       ],\n",
              "       [27.187     ],\n",
              "       [27.478     ],\n",
              "       [26.781     ],\n",
              "       [26.43      ],\n",
              "       [26.229     ],\n",
              "       [26.541     ],\n",
              "       [26.559     ],\n",
              "       [26.479     ],\n",
              "       [26.034     ],\n",
              "       [26.093     ],\n",
              "       [26.286     ],\n",
              "       [26.284     ],\n",
              "       [26.499     ],\n",
              "       [26.248     ],\n",
              "       [26.178     ],\n",
              "       [25.708     ],\n",
              "       [25.802     ],\n",
              "       [26.108     ],\n",
              "       [26.028     ],\n",
              "       [26.322     ],\n",
              "       [26.046     ],\n",
              "       [25.894     ],\n",
              "       [26.088     ],\n",
              "       [26.308     ],\n",
              "       [26.25      ],\n",
              "       [26.682     ],\n",
              "       [25.831     ],\n",
              "       [25.958     ],\n",
              "       [25.833     ],\n",
              "       [26.429     ],\n",
              "       [26.172     ],\n",
              "       [26.404     ],\n",
              "       [26.434     ],\n",
              "       [25.985     ],\n",
              "       [26.153     ],\n",
              "       [26.401     ],\n",
              "       [26.411     ],\n",
              "       [26.836     ],\n",
              "       [26.119     ],\n",
              "       [26.191     ],\n",
              "       [26.259     ],\n",
              "       [26.412     ],\n",
              "       [26.592     ],\n",
              "       [26.489     ],\n",
              "       [26.109     ],\n",
              "       [26.249     ],\n",
              "       [26.434     ],\n",
              "       [26.576     ],\n",
              "       [26.595     ],\n",
              "       [26.917     ],\n",
              "       [26.405     ],\n",
              "       [26.368     ],\n",
              "       [26.23      ],\n",
              "       [26.36      ],\n",
              "       [26.687     ],\n",
              "       [26.772     ],\n",
              "       [26.755     ],\n",
              "       [26.352     ],\n",
              "       [26.35      ],\n",
              "       [26.562     ],\n",
              "       [26.641     ],\n",
              "       [26.919     ],\n",
              "       [26.665     ],\n",
              "       [25.999     ],\n",
              "       [26.276     ],\n",
              "       [26.348     ],\n",
              "       [26.427     ],\n",
              "       [26.728     ],\n",
              "       [26.079     ],\n",
              "       [26.384     ],\n",
              "       [26.281     ],\n",
              "       [26.653     ],\n",
              "       [26.795     ],\n",
              "       [26.94      ],\n",
              "       [26.39      ],\n",
              "       [25.693     ],\n",
              "       [26.146     ],\n",
              "       [26.38      ],\n",
              "       [26.604     ],\n",
              "       [26.694     ],\n",
              "       [26.258     ],\n",
              "       [26.332     ],\n",
              "       [26.712     ],\n",
              "       [26.793     ],\n",
              "       [26.493     ],\n",
              "       [26.689     ],\n",
              "       [26.582     ],\n",
              "       [26.144     ],\n",
              "       [26.336     ],\n",
              "       [26.667     ],\n",
              "       [26.329     ],\n",
              "       [26.382     ],\n",
              "       [25.986     ],\n",
              "       [26.026     ],\n",
              "       [26.397     ],\n",
              "       [26.572     ],\n",
              "       [26.305     ],\n",
              "       [26.572     ],\n",
              "       [26.125     ],\n",
              "       [26.259     ],\n",
              "       [26.1       ],\n",
              "       [26.137     ],\n",
              "       [26.539     ],\n",
              "       [26.846     ],\n",
              "       [26.703     ],\n",
              "       [26.419     ],\n",
              "       [26.246     ],\n",
              "       [26.472     ],\n",
              "       [26.367     ],\n",
              "       [26.808     ],\n",
              "       [26.417     ],\n",
              "       [25.886     ],\n",
              "       [25.869     ],\n",
              "       [26.159     ],\n",
              "       [26.399     ],\n",
              "       [26.368     ],\n",
              "       [26.107     ],\n",
              "       [26.193     ],\n",
              "       [26.033     ],\n",
              "       [25.997     ],\n",
              "       [26.039     ],\n",
              "       [26.419     ],\n",
              "       [25.945     ],\n",
              "       [25.6       ],\n",
              "       [25.747     ],\n",
              "       [26.195     ],\n",
              "       [26.259     ],\n",
              "       [26.404     ],\n",
              "       [25.952     ],\n",
              "       [25.999     ],\n",
              "       [25.966     ],\n",
              "       [26.228     ],\n",
              "       [26.64      ],\n",
              "       [26.852     ],\n",
              "       [26.538     ],\n",
              "       [26.103     ],\n",
              "       [26.464     ],\n",
              "       [26.923     ],\n",
              "       [26.608     ],\n",
              "       [26.692     ],\n",
              "       [26.447     ],\n",
              "       [26.201     ],\n",
              "       [26.907     ],\n",
              "       [26.853     ],\n",
              "       [26.969     ],\n",
              "       [27.218     ],\n",
              "       [26.628     ],\n",
              "       [26.231     ],\n",
              "       [26.369     ],\n",
              "       [26.321     ],\n",
              "       [26.386     ],\n",
              "       [26.412     ],\n",
              "       [25.949     ],\n",
              "       [25.843     ],\n",
              "       [26.095     ],\n",
              "       [26.096     ],\n",
              "       [26.184     ],\n",
              "       [26.617     ],\n",
              "       [26.165     ],\n",
              "       [26.021     ],\n",
              "       [26.136     ],\n",
              "       [26.204     ],\n",
              "       [26.316     ],\n",
              "       [26.53      ],\n",
              "       [26.22      ],\n",
              "       [26.145     ],\n",
              "       [26.152     ],\n",
              "       [26.285     ],\n",
              "       [26.359     ],\n",
              "       [26.64      ],\n",
              "       [26.312     ],\n",
              "       [25.802     ],\n",
              "       [26.065     ],\n",
              "       [26.433     ],\n",
              "       [26.595     ],\n",
              "       [26.651     ],\n",
              "       [26.426     ],\n",
              "       [26.403     ],\n",
              "       [26.209     ],\n",
              "       [26.934     ],\n",
              "       [26.628     ],\n",
              "       [26.818     ],\n",
              "       [26.881     ],\n",
              "       [25.902     ],\n",
              "       [25.961     ],\n",
              "       [25.68448377]])"
            ]
          },
          "metadata": {},
          "execution_count": 117
        }
      ]
    },
    {
      "cell_type": "code",
      "metadata": {
        "id": "PIfk3H9GRMyw"
      },
      "source": [
        "scaler = MinMaxScaler()\n",
        "train_scale = scaler.fit_transform(train_sample.reshape(-1, 1))\n",
        "test_scale = scaler.fit_transform(test_sample.reshape(-1, 1))"
      ],
      "execution_count": 192,
      "outputs": []
    },
    {
      "cell_type": "code",
      "metadata": {
        "colab": {
          "base_uri": "https://localhost:8080/"
        },
        "id": "DixIaArWlfsn",
        "outputId": "c56d18ed-8b68-4bd2-dbc2-7e96047c1ec9"
      },
      "source": [
        "train_scale.shape"
      ],
      "execution_count": 193,
      "outputs": [
        {
          "output_type": "execute_result",
          "data": {
            "text/plain": [
              "(1812, 1)"
            ]
          },
          "metadata": {},
          "execution_count": 193
        }
      ]
    },
    {
      "cell_type": "code",
      "metadata": {
        "id": "352iuBXqXsyL"
      },
      "source": [
        "split=int((1-0.2)*len(data))\n",
        "\n",
        "date_train = data.index[:split]\n",
        "date_test = data.index[split:]"
      ],
      "execution_count": 194,
      "outputs": []
    },
    {
      "cell_type": "code",
      "metadata": {
        "id": "oG0jlXqBmoL0"
      },
      "source": [
        "len= 30\n",
        "train_gen = TimeseriesGenerator(train_scale, train_scale, length=len, batch_size=20)     \n",
        "test_gen = TimeseriesGenerator(test_scale, test_scale, length=len, batch_size=1)"
      ],
      "execution_count": 195,
      "outputs": []
    },
    {
      "cell_type": "code",
      "metadata": {
        "colab": {
          "base_uri": "https://localhost:8080/"
        },
        "id": "vCAn4AjVA_jq",
        "outputId": "481423b1-a020-4b66-af2e-a90d6a3f3607"
      },
      "source": [
        "#mengecek apakah masih ada null\n",
        "data.isnull().sum()"
      ],
      "execution_count": 196,
      "outputs": [
        {
          "output_type": "execute_result",
          "data": {
            "text/plain": [
              "AverageTemperature    0\n",
              "dtype: int64"
            ]
          },
          "metadata": {},
          "execution_count": 196
        }
      ]
    },
    {
      "cell_type": "code",
      "metadata": {
        "id": "bso_2B-n5MEc",
        "colab": {
          "base_uri": "https://localhost:8080/"
        },
        "outputId": "1515d24e-aa1b-4ab1-fc37-f0072b550199"
      },
      "source": [
        "model = tf.keras.models.Sequential([\n",
        "  tf.keras.layers.LSTM(60, return_sequences=True, activation='relu', input_shape=(len, 1)),\n",
        "  tf.keras.layers.LSTM(60),\n",
        "  tf.keras.layers.Dense(30, activation=\"relu\"),\n",
        "  tf.keras.layers.Dense(10, activation=\"relu\"),\n",
        "  tf.keras.layers.Dropout(0.25),\n",
        "  tf.keras.layers.Dense(1),\n",
        "])\n",
        "model.summary()"
      ],
      "execution_count": 187,
      "outputs": [
        {
          "output_type": "stream",
          "name": "stdout",
          "text": [
            "Model: \"sequential_19\"\n",
            "_________________________________________________________________\n",
            "Layer (type)                 Output Shape              Param #   \n",
            "=================================================================\n",
            "lstm_34 (LSTM)               (None, 30, 60)            14880     \n",
            "_________________________________________________________________\n",
            "lstm_35 (LSTM)               (None, 60)                29040     \n",
            "_________________________________________________________________\n",
            "dense_48 (Dense)             (None, 30)                1830      \n",
            "_________________________________________________________________\n",
            "dense_49 (Dense)             (None, 10)                310       \n",
            "_________________________________________________________________\n",
            "dropout_8 (Dropout)          (None, 10)                0         \n",
            "_________________________________________________________________\n",
            "dense_50 (Dense)             (None, 1)                 11        \n",
            "=================================================================\n",
            "Total params: 46,071\n",
            "Trainable params: 46,071\n",
            "Non-trainable params: 0\n",
            "_________________________________________________________________\n"
          ]
        }
      ]
    },
    {
      "cell_type": "code",
      "metadata": {
        "id": "zDfspRqSa_Ha"
      },
      "source": [
        "#membuat callback agar menghentikan epoch bila akurasi sesuai dengan yang diinginkan\n",
        "class myCallback(tf.keras.callbacks.Callback):\n",
        "  def on_epoch_end(self, epoch, logs={}):\n",
        "    if(logs.get('mae') < 0.1):\n",
        "      print(\"\\n Mean Absolute Error < 10%!\")\n",
        "      self.model.stop_training = True\n",
        "callbacks = myCallback()"
      ],
      "execution_count": 188,
      "outputs": []
    },
    {
      "cell_type": "code",
      "metadata": {
        "colab": {
          "base_uri": "https://localhost:8080/"
        },
        "id": "VHKjwUufBveH",
        "outputId": "3a0db183-41b8-4a76-ad0e-fde88237adb6"
      },
      "source": [
        "optimizer = tf.keras.optimizers.SGD(lr=1.0000e-04, momentum=0.9)\n",
        "model.compile(loss=tf.keras.losses.Huber(),\n",
        "              optimizer=optimizer,\n",
        "              metrics=[\"mae\"])\n",
        "history = model.fit_generator(train_gen, \n",
        "                    epochs= 150, \n",
        "                    verbose=1, \n",
        "                    callbacks=[callbacks], \n",
        "                    steps_per_epoch = 2)"
      ],
      "execution_count": 190,
      "outputs": [
        {
          "output_type": "stream",
          "name": "stderr",
          "text": [
            "/usr/local/lib/python3.7/dist-packages/keras/optimizer_v2/optimizer_v2.py:356: UserWarning: The `lr` argument is deprecated, use `learning_rate` instead.\n",
            "  \"The `lr` argument is deprecated, use `learning_rate` instead.\")\n",
            "/usr/local/lib/python3.7/dist-packages/keras/engine/training.py:1972: UserWarning: `Model.fit_generator` is deprecated and will be removed in a future version. Please use `Model.fit`, which supports generators.\n",
            "  warnings.warn('`Model.fit_generator` is deprecated and '\n"
          ]
        },
        {
          "output_type": "stream",
          "name": "stdout",
          "text": [
            "Epoch 1/150\n",
            "2/2 [==============================] - 3s 31ms/step - loss: 0.0197 - mae: 0.1689\n",
            "Epoch 2/150\n",
            "2/2 [==============================] - 0s 32ms/step - loss: 0.0071 - mae: 0.0863\n",
            "Epoch 3/150\n",
            "2/2 [==============================] - 0s 32ms/step - loss: 0.0067 - mae: 0.0827\n",
            "Epoch 4/150\n",
            "2/2 [==============================] - 0s 31ms/step - loss: 0.0148 - mae: 0.1288\n",
            "Epoch 5/150\n",
            "2/2 [==============================] - 0s 38ms/step - loss: 0.0125 - mae: 0.1266\n",
            "Epoch 6/150\n",
            "2/2 [==============================] - 0s 34ms/step - loss: 0.0060 - mae: 0.0882\n",
            "Epoch 7/150\n",
            "2/2 [==============================] - 0s 34ms/step - loss: 0.0081 - mae: 0.1110\n",
            "Epoch 8/150\n",
            "2/2 [==============================] - 0s 31ms/step - loss: 0.0064 - mae: 0.0662\n",
            "Epoch 9/150\n",
            "2/2 [==============================] - 0s 34ms/step - loss: 0.0077 - mae: 0.0988\n",
            "Epoch 10/150\n",
            "2/2 [==============================] - 0s 33ms/step - loss: 0.0099 - mae: 0.1122\n",
            "Epoch 11/150\n",
            "2/2 [==============================] - 0s 33ms/step - loss: 0.0079 - mae: 0.0861\n",
            "Epoch 12/150\n",
            "2/2 [==============================] - 0s 32ms/step - loss: 0.0136 - mae: 0.1426\n",
            "Epoch 13/150\n",
            "2/2 [==============================] - 0s 34ms/step - loss: 0.0077 - mae: 0.1013\n",
            "Epoch 14/150\n",
            "2/2 [==============================] - 0s 33ms/step - loss: 0.0172 - mae: 0.1452\n",
            "Epoch 15/150\n",
            "2/2 [==============================] - 0s 32ms/step - loss: 0.0105 - mae: 0.1134\n",
            "Epoch 16/150\n",
            "2/2 [==============================] - 0s 34ms/step - loss: 0.0075 - mae: 0.0879\n",
            "Epoch 17/150\n",
            "2/2 [==============================] - 0s 32ms/step - loss: 0.0063 - mae: 0.0876\n",
            "Epoch 18/150\n",
            "2/2 [==============================] - 0s 32ms/step - loss: 0.0062 - mae: 0.0791\n",
            "Epoch 19/150\n",
            "2/2 [==============================] - 0s 31ms/step - loss: 0.0088 - mae: 0.1005\n",
            "Epoch 20/150\n",
            "2/2 [==============================] - 0s 32ms/step - loss: 0.0053 - mae: 0.0802\n",
            "Epoch 21/150\n",
            "2/2 [==============================] - 0s 43ms/step - loss: 0.0047 - mae: 0.0778\n",
            "Epoch 22/150\n",
            "2/2 [==============================] - 0s 33ms/step - loss: 0.0074 - mae: 0.0977\n",
            "Epoch 23/150\n",
            "2/2 [==============================] - 0s 31ms/step - loss: 0.0074 - mae: 0.0847\n",
            "Epoch 24/150\n",
            "2/2 [==============================] - 0s 33ms/step - loss: 0.0121 - mae: 0.1258\n",
            "Epoch 25/150\n",
            "2/2 [==============================] - 0s 32ms/step - loss: 0.0102 - mae: 0.1189\n",
            "Epoch 26/150\n",
            "2/2 [==============================] - 0s 31ms/step - loss: 0.0096 - mae: 0.1135\n",
            "Epoch 27/150\n",
            "2/2 [==============================] - 0s 33ms/step - loss: 0.0146 - mae: 0.1338\n",
            "Epoch 28/150\n",
            "2/2 [==============================] - 0s 32ms/step - loss: 0.0112 - mae: 0.1170\n",
            "Epoch 29/150\n",
            "2/2 [==============================] - 0s 35ms/step - loss: 0.0074 - mae: 0.0980\n",
            "Epoch 30/150\n",
            "2/2 [==============================] - 0s 38ms/step - loss: 0.0048 - mae: 0.0814\n",
            "Epoch 31/150\n",
            "2/2 [==============================] - 0s 41ms/step - loss: 0.0027 - mae: 0.0541\n",
            "Epoch 32/150\n",
            "2/2 [==============================] - 0s 36ms/step - loss: 0.0037 - mae: 0.0569\n",
            "Epoch 33/150\n",
            "2/2 [==============================] - 0s 37ms/step - loss: 0.0266 - mae: 0.1996\n",
            "Epoch 34/150\n",
            "2/2 [==============================] - 0s 38ms/step - loss: 0.0079 - mae: 0.0926\n",
            "Epoch 35/150\n",
            "2/2 [==============================] - 0s 38ms/step - loss: 0.0112 - mae: 0.1268\n",
            "Epoch 36/150\n",
            "2/2 [==============================] - 0s 44ms/step - loss: 0.0084 - mae: 0.0958\n",
            "Epoch 37/150\n",
            "2/2 [==============================] - 0s 35ms/step - loss: 0.0140 - mae: 0.1383\n",
            "Epoch 38/150\n",
            "2/2 [==============================] - 0s 33ms/step - loss: 0.0075 - mae: 0.1052\n",
            "Epoch 39/150\n",
            "2/2 [==============================] - 0s 36ms/step - loss: 0.0141 - mae: 0.1410\n",
            "Epoch 40/150\n",
            "2/2 [==============================] - 0s 36ms/step - loss: 0.0131 - mae: 0.1377\n",
            "Epoch 41/150\n",
            "2/2 [==============================] - 0s 33ms/step - loss: 0.0052 - mae: 0.0729\n",
            "Epoch 42/150\n",
            "2/2 [==============================] - 0s 32ms/step - loss: 0.0039 - mae: 0.0658\n",
            "Epoch 43/150\n",
            "2/2 [==============================] - 0s 34ms/step - loss: 0.0151 - mae: 0.1270\n",
            "Epoch 44/150\n",
            "2/2 [==============================] - 0s 32ms/step - loss: 0.0114 - mae: 0.1222\n",
            "Epoch 45/150\n",
            "2/2 [==============================] - 0s 33ms/step - loss: 0.0120 - mae: 0.1339\n",
            "Epoch 46/150\n",
            "2/2 [==============================] - 0s 32ms/step - loss: 0.0030 - mae: 0.0576\n",
            "Epoch 47/150\n",
            "2/2 [==============================] - 0s 35ms/step - loss: 0.0113 - mae: 0.1211\n",
            "Epoch 48/150\n",
            "2/2 [==============================] - 0s 36ms/step - loss: 0.0090 - mae: 0.1067\n",
            "Epoch 49/150\n",
            "2/2 [==============================] - 0s 32ms/step - loss: 0.0124 - mae: 0.1266\n",
            "Epoch 50/150\n",
            "2/2 [==============================] - 0s 33ms/step - loss: 0.0119 - mae: 0.1357\n",
            "Epoch 51/150\n",
            "2/2 [==============================] - 0s 38ms/step - loss: 0.0071 - mae: 0.0930\n",
            "Epoch 52/150\n",
            "2/2 [==============================] - 0s 34ms/step - loss: 0.0122 - mae: 0.1360\n",
            "Epoch 53/150\n",
            "2/2 [==============================] - 0s 35ms/step - loss: 0.0097 - mae: 0.1138\n",
            "Epoch 54/150\n",
            "2/2 [==============================] - 0s 34ms/step - loss: 0.0096 - mae: 0.0978\n",
            "Epoch 55/150\n",
            "2/2 [==============================] - 0s 36ms/step - loss: 0.0128 - mae: 0.1382\n",
            "Epoch 56/150\n",
            "2/2 [==============================] - 0s 33ms/step - loss: 0.0129 - mae: 0.1320\n",
            "Epoch 57/150\n",
            "2/2 [==============================] - 0s 37ms/step - loss: 0.0049 - mae: 0.0824\n",
            "Epoch 58/150\n",
            "2/2 [==============================] - 0s 32ms/step - loss: 0.0086 - mae: 0.1086\n",
            "Epoch 59/150\n",
            "2/2 [==============================] - 0s 33ms/step - loss: 0.0111 - mae: 0.1196\n",
            "Epoch 60/150\n",
            "2/2 [==============================] - 0s 33ms/step - loss: 0.0019 - mae: 0.0406\n",
            "\n",
            " Mean Absolute Error < 10%!\n"
          ]
        }
      ]
    },
    {
      "cell_type": "code",
      "metadata": {
        "id": "RRx7NdYsCyFH",
        "colab": {
          "base_uri": "https://localhost:8080/",
          "height": 295
        },
        "outputId": "532f567f-7dff-4ada-8b9e-9bb10fb783cd"
      },
      "source": [
        "plt.plot(history.history['loss'])\n",
        "plt.plot(history.history['mae'])\n",
        "plt.title('Prediction')\n",
        "\n",
        "plt.ylabel('Loss')\n",
        "plt.xlabel('Epoch')\n",
        "plt.legend(['Train', 'Test'], loc='upper right')\n",
        "\n",
        "plt.show()"
      ],
      "execution_count": 191,
      "outputs": [
        {
          "output_type": "display_data",
          "data": {
            "image/png": "[encoded data removed]",
            "text/plain": [
              "<Figure size 432x288 with 1 Axes>"
            ]
          },
          "metadata": {
            "needs_background": "light"
          }
        }
      ]
    },
    {
      "cell_type": "code",
      "metadata": {
        "colab": {
          "base_uri": "https://localhost:8080/",
          "height": 354
        },
        "id": "mgfmS7gXxNyT",
        "outputId": "dd8591fa-9529-47eb-c804-a6e5d45407cd"
      },
      "source": [
        "pred = scaler.inverse_transform(model.predict_generator(test_gen))\n",
        "\n",
        "plt.figure(figsize=(20,4))\n",
        "plt.plot(date_train, train_sample, label = \"Train_sample\")\n",
        "plt.plot(date_test[:-len], pred, label = \"Prediction From Test_sample\")\n",
        "plt.title('Rata-Rata Temperatur di Indonesia')\n",
        "\n",
        "plt.xlabel('Selang Waktu',fontsize=15)\n",
        "plt.ylabel('Rata-rata Temperatur dalam C°',fontsize=15)\n",
        "plt.legend()\n",
        "plt.show()"
      ],
      "execution_count": 199,
      "outputs": [
        {
          "output_type": "stream",
          "name": "stderr",
          "text": [
            "/usr/local/lib/python3.7/dist-packages/keras/engine/training.py:2035: UserWarning: `Model.predict_generator` is deprecated and will be removed in a future version. Please use `Model.predict`, which supports generators.\n",
            "  warnings.warn('`Model.predict_generator` is deprecated and '\n"
          ]
        },
        {
          "output_type": "display_data",
          "data": {
            "image/png": "[encoded data removed]",
            "text/plain": [
              "<Figure size 1440x288 with 1 Axes>"
            ]
          },
          "metadata": {
            "needs_background": "light"
          }
        }
      ]
    }
  ]
}